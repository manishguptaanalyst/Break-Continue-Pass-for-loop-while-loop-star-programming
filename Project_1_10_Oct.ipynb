{
 "cells": [
  {
   "cell_type": "code",
   "execution_count": 1,
   "id": "0893784b",
   "metadata": {},
   "outputs": [],
   "source": [
    "#inteter\n",
    "a=5"
   ]
  },
  {
   "cell_type": "code",
   "execution_count": 2,
   "id": "648f2779",
   "metadata": {},
   "outputs": [
    {
     "name": "stdout",
     "output_type": "stream",
     "text": [
      "5 is type of <class 'int'>\n"
     ]
    }
   ],
   "source": [
    "print(a,\"is type of\",type(a))"
   ]
  },
  {
   "cell_type": "code",
   "execution_count": 3,
   "id": "2817e03d",
   "metadata": {},
   "outputs": [
    {
     "name": "stdout",
     "output_type": "stream",
     "text": [
      "2.0 is type of <class 'float'>\n"
     ]
    }
   ],
   "source": [
    "#Float\n",
    "b=2.0\n",
    "print(b,\"is type of\",type(b))"
   ]
  },
  {
   "cell_type": "code",
   "execution_count": 5,
   "id": "98124ea6",
   "metadata": {},
   "outputs": [
    {
     "name": "stdout",
     "output_type": "stream",
     "text": [
      "(2+1j) is type of <class 'complex'>\n"
     ]
    }
   ],
   "source": [
    "# Complex Datatype\n",
    "c=2+1J\n",
    "print(c,\"is type of\",type(c))"
   ]
  },
  {
   "cell_type": "code",
   "execution_count": 17,
   "id": "1269b937",
   "metadata": {},
   "outputs": [
    {
     "name": "stdout",
     "output_type": "stream",
     "text": [
      "0\n",
      "1\n",
      "2\n",
      "3\n",
      "4\n",
      "5\n",
      "6\n",
      "7\n",
      "8\n",
      "9\n"
     ]
    }
   ],
   "source": [
    "# print 0 to 9\n",
    "for i in range(10):\n",
    "           print(i)"
   ]
  },
  {
   "cell_type": "code",
   "execution_count": null,
   "id": "a63ee341",
   "metadata": {},
   "outputs": [],
   "source": []
  }
 ],
 "metadata": {
  "kernelspec": {
   "display_name": "Python 3 (ipykernel)",
   "language": "python",
   "name": "python3"
  },
  "language_info": {
   "codemirror_mode": {
    "name": "ipython",
    "version": 3
   },
   "file_extension": ".py",
   "mimetype": "text/x-python",
   "name": "python",
   "nbconvert_exporter": "python",
   "pygments_lexer": "ipython3",
   "version": "3.9.13"
  }
 },
 "nbformat": 4,
 "nbformat_minor": 5
}

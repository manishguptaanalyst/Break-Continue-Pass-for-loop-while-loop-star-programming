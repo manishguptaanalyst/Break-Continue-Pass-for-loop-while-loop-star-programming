{
 "cells": [
  {
   "cell_type": "code",
   "execution_count": 1,
   "id": "093366f3",
   "metadata": {},
   "outputs": [],
   "source": [
    "a=10\n",
    "if a < 15:\n",
    "    pass"
   ]
  },
  {
   "cell_type": "markdown",
   "id": "eb9f17f4",
   "metadata": {},
   "source": [
    "# if else statements"
   ]
  },
  {
   "cell_type": "code",
   "execution_count": 3,
   "id": "a8543c1a",
   "metadata": {},
   "outputs": [
    {
     "name": "stdout",
     "output_type": "stream",
     "text": [
      "this course is python\n"
     ]
    }
   ],
   "source": [
    "if a < 16:\n",
    "    print(\"this course is python\")"
   ]
  },
  {
   "cell_type": "code",
   "execution_count": 10,
   "id": "04453c6f",
   "metadata": {},
   "outputs": [
    {
     "name": "stdout",
     "output_type": "stream",
     "text": [
      "this is the best\n",
      "good bory\n",
      "running\n"
     ]
    }
   ],
   "source": [
    "a=10\n",
    "if a<15:\n",
    "    print(\"this is the best\")\n",
    "    print(\"good bory\")\n",
    "    print(\"running\")\n",
    "    "
   ]
  },
  {
   "cell_type": "code",
   "execution_count": 16,
   "id": "5f472bb9",
   "metadata": {},
   "outputs": [
    {
     "name": "stdout",
     "output_type": "stream",
     "text": [
      "this condition is not correct\n"
     ]
    }
   ],
   "source": [
    "if 10 < 3:\n",
    "    print (\"10 is less than 3\")\n",
    "else:\n",
    "       print (\"this condition is not correct\")"
   ]
  },
  {
   "cell_type": "code",
   "execution_count": 18,
   "id": "6bc3704a",
   "metadata": {},
   "outputs": [
    {
     "name": "stdout",
     "output_type": "stream",
     "text": [
      "this condition is absolutely in correct\n"
     ]
    }
   ],
   "source": [
    "if 50 < 40:\n",
    "    print(\"50 is less then 30\")\n",
    "else:\n",
    "        print(\"this condition is absolutely in correct\")"
   ]
  },
  {
   "cell_type": "code",
   "execution_count": 2,
   "id": "94536419",
   "metadata": {},
   "outputs": [
    {
     "name": "stdout",
     "output_type": "stream",
     "text": [
      "200\n",
      "Not about to buy anything\n"
     ]
    }
   ],
   "source": [
    "income = income=int(input())\n",
    "if income < 50:\n",
    "    print (\"I will be able to buy a mobile\")\n",
    "elif income < 70:\n",
    "    print(\"i will able to buy a car\")\n",
    "elif income < 110:\n",
    "    print (\"i will be able a rented house\")\n",
    "else:\n",
    "    print(\"Not about to buy anything\")"
   ]
  },
  {
   "cell_type": "code",
   "execution_count": 7,
   "id": "5c1be480",
   "metadata": {},
   "outputs": [
    {
     "name": "stdout",
     "output_type": "stream",
     "text": [
      "40000\n",
      "discount will be 8000.0\n"
     ]
    }
   ],
   "source": [
    "Total_Prict=int(input())\n",
    "if Total_Prict > 20000:\n",
    "    discount =Total_Prict*.20\n",
    "    print(\"discount will be\",discount)\n",
    "    \n",
    "elif Total_Prict <= 10000:\n",
    "        discount = Total_Prict*.05\n",
    "        print(\"discount will be\", discount)\n",
    "        \n",
    "else:\n",
    "    print (\"you will not able to get any discount\")"
   ]
  },
  {
   "cell_type": "code",
   "execution_count": 11,
   "id": "10ffd9d3",
   "metadata": {},
   "outputs": [
    {
     "name": "stdout",
     "output_type": "stream",
     "text": [
      "Enter a coupon codeSWIGGY80\n",
      "you will be able to get a discount 5%\n",
      "you will be able to get food with the amount 6650.0\n"
     ]
    }
   ],
   "source": [
    "coupon=input(\"Enter a coupon code\")\n",
    "if coupon == \"SWIGGY80\":\n",
    "    print (\"you will be able to get a discount 5%\")\n",
    "    Paid_Amount = 7000-7000*.05\n",
    "    print(\"you will be able to get food with the amount\",Paid_Amount)\n",
    "else:\n",
    "    print(\"Kindly use valid coupon code\")\n",
    "    "
   ]
  },
  {
   "cell_type": "code",
   "execution_count": 16,
   "id": "75b74cfb",
   "metadata": {},
   "outputs": [
    {
     "name": "stdout",
     "output_type": "stream",
     "text": [
      "1\n",
      "it will be difficult to crack the intervew\n"
     ]
    }
   ],
   "source": [
    "study_hour = int(input())\n",
    "\n",
    "if study_hour < 1:\n",
    "    print (\"it may take one year to get a job\")\n",
    "    \n",
    "elif study_hour < 4 and study_hour > 1:\n",
    "    print(\"it may take 6 months to get a job\")\n",
    "    \n",
    "elif study_hour > 10:\n",
    "    print (\"it may take 3 months to get a job\")\n",
    "    \n",
    "else:\n",
    "    print(\"it will be difficult to crack the intervew\")\n"
   ]
  },
  {
   "cell_type": "code",
   "execution_count": 17,
   "id": "b798d0c0",
   "metadata": {},
   "outputs": [
    {
     "name": "stdout",
     "output_type": "stream",
     "text": [
      "valid\n"
     ]
    }
   ],
   "source": [
    "a = 9\n",
    "if a==9:\n",
    "    print(\"valid\")"
   ]
  },
  {
   "cell_type": "code",
   "execution_count": 11,
   "id": "24ff9415",
   "metadata": {},
   "outputs": [
    {
     "ename": "SyntaxError",
     "evalue": "invalid syntax (3609423628.py, line 17)",
     "output_type": "error",
     "traceback": [
      "\u001b[1;36m  File \u001b[1;32m\"C:\\Users\\manis\\AppData\\Local\\Temp\\ipykernel_18324\\3609423628.py\"\u001b[1;36m, line \u001b[1;32m17\u001b[0m\n\u001b[1;33m    elif s == \"goonline services\":\u001b[0m\n\u001b[1;37m    ^\u001b[0m\n\u001b[1;31mSyntaxError\u001b[0m\u001b[1;31m:\u001b[0m invalid syntax\n"
     ]
    }
   ],
   "source": [
    "s = input(\"Enter the Institute Name\")\n",
    "course = input(\"Enter a Course Name\")\n",
    "Services = input(\"Enter a Service Name\")\n",
    "if s == \"Go Online Training\":\n",
    "    if course == 'sql':\n",
    "        print(\"yes it is available under go online training\")\n",
    "elif course == 'Python':\n",
    "    print(\"this is second course yes it is available\")\n",
    "elif course == 'Artificial Intelligence':\n",
    "    print (\"this is weekend batch , yes it is available\")\n",
    "elif course == 'Power BI':\n",
    "    print (\"power bi course is available\")\n",
    "    \n",
    "else:\n",
    "    print(\"the courses are not available in this institute\") \n",
    "    \n",
    "    elif s == \"goonline services\":\n",
    "        if services == \"Course Request\":\n",
    "            print(\"We will release in the future\")\n",
    "        elif services == 'doubts regarding current courses':\n",
    "            print(\"Trainer is available so and so time\")\n",
    "        elif services = \"palacement assistant\":\n",
    "                print(\"We will be providing\")\n",
    "        else:\n",
    "                print(\"Kindly provide us feedback\")\n",
    "else:\n",
    "            print(\"Kindly contact with our team\")\n",
    "    "
   ]
  },
  {
   "cell_type": "markdown",
   "id": "1fad8f4a",
   "metadata": {},
   "source": [
    "# For Loop ---------"
   ]
  },
  {
   "cell_type": "code",
   "execution_count": 12,
   "id": "ff347676",
   "metadata": {},
   "outputs": [
    {
     "name": "stdout",
     "output_type": "stream",
     "text": [
      "1\n",
      "2\n",
      "3\n",
      "4\n",
      "5\n",
      "6\n",
      "7\n",
      "8\n",
      "9\n"
     ]
    }
   ],
   "source": [
    "l = [1,2,3,4,5,6,7,8,9]\n",
    "for i in l:\n",
    "    print(i)"
   ]
  },
  {
   "cell_type": "code",
   "execution_count": 14,
   "id": "bb1c1f6c",
   "metadata": {},
   "outputs": [
    {
     "name": "stdout",
     "output_type": "stream",
     "text": [
      "0\n",
      "1\n",
      "2\n",
      "3\n",
      "4\n",
      "5\n",
      "6\n",
      "7\n",
      "8\n",
      "9\n"
     ]
    }
   ],
   "source": [
    "for i in range(10):\n",
    "    print(i)"
   ]
  },
  {
   "cell_type": "code",
   "execution_count": 15,
   "id": "597f52c7",
   "metadata": {},
   "outputs": [
    {
     "name": "stdout",
     "output_type": "stream",
     "text": [
      "r\n",
      "a\n",
      "m\n",
      "k\n",
      "r\n",
      "i\n",
      "s\n",
      "h\n",
      "n\n",
      "a\n"
     ]
    }
   ],
   "source": [
    "a=\"ramkrishna\"\n",
    "for i in a:\n",
    "    print(i)"
   ]
  },
  {
   "cell_type": "code",
   "execution_count": 17,
   "id": "527f369d",
   "metadata": {},
   "outputs": [
    {
     "name": "stdout",
     "output_type": "stream",
     "text": [
      "1\n",
      "2\n",
      "3\n",
      "4\n",
      "5\n",
      "6\n",
      "7\n",
      "8\n",
      "9\n"
     ]
    }
   ],
   "source": [
    "t=(1,2,3,4,5,6,7,8,9)\n",
    "for i in t:\n",
    "    print(i)"
   ]
  },
  {
   "cell_type": "code",
   "execution_count": 19,
   "id": "324ae746",
   "metadata": {},
   "outputs": [],
   "source": [
    "l=[1,2,3,4,5,6,7,8,9,7+8j,\"ManishGupta\",5.8,False]"
   ]
  },
  {
   "cell_type": "code",
   "execution_count": 25,
   "id": "ee8f6cdf",
   "metadata": {},
   "outputs": [
    {
     "name": "stdout",
     "output_type": "stream",
     "text": [
      "1 <class 'int'>\n",
      "2 <class 'int'>\n",
      "3 <class 'int'>\n",
      "4 <class 'int'>\n",
      "5 <class 'int'>\n",
      "6 <class 'int'>\n",
      "7 <class 'int'>\n",
      "8 <class 'int'>\n",
      "9 <class 'int'>\n",
      "(7+8j) <class 'complex'>\n",
      "ManishGupta <class 'str'>\n",
      "5.8 <class 'float'>\n",
      "False <class 'bool'>\n"
     ]
    }
   ],
   "source": [
    "for i in l:\n",
    "    print(i,type(i))"
   ]
  },
  {
   "cell_type": "code",
   "execution_count": 27,
   "id": "418902e7",
   "metadata": {},
   "outputs": [
    {
     "name": "stdout",
     "output_type": "stream",
     "text": [
      "<class 'int'> type of 1\n",
      "<class 'int'> type of 2\n",
      "<class 'int'> type of 3\n",
      "<class 'int'> type of 4\n",
      "<class 'int'> type of 5\n",
      "<class 'int'> type of 6\n",
      "<class 'int'> type of 7\n",
      "<class 'int'> type of 8\n",
      "<class 'int'> type of 9\n",
      "<class 'complex'> type of (7+8j)\n",
      "<class 'str'> type of ManishGupta\n",
      "<class 'float'> type of 5.8\n",
      "<class 'bool'> type of False\n"
     ]
    }
   ],
   "source": [
    "for i in l:\n",
    "    print(type(i),\"type of\",i)"
   ]
  },
  {
   "cell_type": "code",
   "execution_count": 28,
   "id": "ae786bef",
   "metadata": {},
   "outputs": [
    {
     "name": "stdout",
     "output_type": "stream",
     "text": [
      "3\n",
      "4\n",
      "5\n",
      "6\n",
      "7\n",
      "8.7\n"
     ]
    }
   ],
   "source": [
    "l= [1,2,3,4,5,6.7]\n",
    "for i in l:\n",
    "    print(i+2)"
   ]
  },
  {
   "cell_type": "code",
   "execution_count": 29,
   "id": "9b922d11",
   "metadata": {},
   "outputs": [],
   "source": [
    "l = [2,3,4,5,6,7.8]"
   ]
  },
  {
   "cell_type": "code",
   "execution_count": 30,
   "id": "87e00e8a",
   "metadata": {},
   "outputs": [
    {
     "name": "stdout",
     "output_type": "stream",
     "text": [
      "4\n",
      "5\n",
      "6\n",
      "7\n",
      "8\n",
      "9.8\n"
     ]
    }
   ],
   "source": [
    "l1=[]\n",
    "for i in l:\n",
    "    print(i+2)\n",
    "    l1.append(i+2)"
   ]
  },
  {
   "cell_type": "code",
   "execution_count": 31,
   "id": "be28963b",
   "metadata": {},
   "outputs": [
    {
     "data": {
      "text/plain": [
       "[4, 5, 6, 7, 8, 9.8]"
      ]
     },
     "execution_count": 31,
     "metadata": {},
     "output_type": "execute_result"
    }
   ],
   "source": [
    "l1"
   ]
  },
  {
   "cell_type": "code",
   "execution_count": 47,
   "id": "575a2d8f",
   "metadata": {},
   "outputs": [],
   "source": [
    "l=[1,2,3,56,67,78,'manishgupta','rakesh','shivam',3+4j,[2,3,4,55,66,77,88,55555,6785444]]"
   ]
  },
  {
   "cell_type": "code",
   "execution_count": 68,
   "id": "7bec7ea5",
   "metadata": {},
   "outputs": [
    {
     "name": "stdout",
     "output_type": "stream",
     "text": [
      "1\n",
      "2\n",
      "3\n",
      "56\n",
      "67\n",
      "78\n",
      "manishgupta\n",
      "rakesh\n",
      "shivam\n",
      "2\n",
      "3\n",
      "4\n",
      "55\n",
      "66\n",
      "77\n",
      "88\n",
      "55555\n",
      "6785444\n"
     ]
    }
   ],
   "source": [
    "l2=[]\n",
    "l1=[]\n",
    "for i in l:\n",
    "    if type(i)==int:\n",
    "        print(i)\n",
    "        l1.append(i)\n",
    "    elif type(i) == str:\n",
    "            print(i)\n",
    "            l2.append(i)\n",
    "    elif type(i)==list:\n",
    "        for j in i:\n",
    "            if type(j)==int:\n",
    "                print(j)\n",
    "                l1.append(j)\n",
    "        "
   ]
  },
  {
   "cell_type": "code",
   "execution_count": 70,
   "id": "e923fdfe",
   "metadata": {},
   "outputs": [
    {
     "data": {
      "text/plain": [
       "[1, 2, 3, 56, 67, 78, 2, 3, 4, 55, 66, 77, 88, 55555, 6785444]"
      ]
     },
     "execution_count": 70,
     "metadata": {},
     "output_type": "execute_result"
    }
   ],
   "source": [
    "l1"
   ]
  },
  {
   "cell_type": "code",
   "execution_count": 64,
   "id": "0fa5329a",
   "metadata": {},
   "outputs": [],
   "source": [
    "l2.append(3214)"
   ]
  },
  {
   "cell_type": "code",
   "execution_count": 65,
   "id": "431a3f8c",
   "metadata": {},
   "outputs": [
    {
     "data": {
      "text/plain": [
       "[2, 3, 4, 55, 66, 77, 88, 55555, 6785444, 3214]"
      ]
     },
     "execution_count": 65,
     "metadata": {},
     "output_type": "execute_result"
    }
   ],
   "source": [
    "l2"
   ]
  },
  {
   "cell_type": "code",
   "execution_count": 71,
   "id": "814d42a7",
   "metadata": {},
   "outputs": [],
   "source": [
    "l=[2,54,78,89,'python',6+6j,[56,67,78,\"rajakurmari\"]]\n",
    "# a) try to print index of all elements\n",
    "# b) Try to extract all the list of characters if the element is string\n",
    "# c) try to return a list after doing a square of all the elements"
   ]
  },
  {
   "cell_type": "code",
   "execution_count": 72,
   "id": "81d2aa22",
   "metadata": {},
   "outputs": [
    {
     "data": {
      "text/plain": [
       "range(0, 5)"
      ]
     },
     "execution_count": 72,
     "metadata": {},
     "output_type": "execute_result"
    }
   ],
   "source": [
    "range(0,5)"
   ]
  },
  {
   "cell_type": "code",
   "execution_count": 73,
   "id": "cdc37c43",
   "metadata": {},
   "outputs": [
    {
     "data": {
      "text/plain": [
       "7"
      ]
     },
     "execution_count": 73,
     "metadata": {},
     "output_type": "execute_result"
    }
   ],
   "source": [
    "len(l)"
   ]
  },
  {
   "cell_type": "code",
   "execution_count": 86,
   "id": "8454a5c8",
   "metadata": {},
   "outputs": [
    {
     "name": "stdout",
     "output_type": "stream",
     "text": [
      "Index 0 for an element 2\n",
      "Index 1 for an element 54\n",
      "Index 2 for an element 78\n",
      "Index 3 for an element 89\n",
      "Index 4 for an element python\n",
      "Index 5 for an element (6+6j)\n",
      "Index 6 for an element [56, 67, 78, 'rajakurmari']\n"
     ]
    }
   ],
   "source": [
    "# a) try to print index of all elements\n",
    "\n",
    "for i in range(len(l)):\n",
    "    print(\"Index\",i,\"for an element\",l[i])"
   ]
  },
  {
   "cell_type": "code",
   "execution_count": 87,
   "id": "03d6184a",
   "metadata": {},
   "outputs": [
    {
     "data": {
      "text/plain": [
       "[2, 54, 78, 89, 'python', (6+6j), [56, 67, 78, 'rajakurmari']]"
      ]
     },
     "execution_count": 87,
     "metadata": {},
     "output_type": "execute_result"
    }
   ],
   "source": [
    "l"
   ]
  },
  {
   "cell_type": "code",
   "execution_count": 89,
   "id": "c165c554",
   "metadata": {},
   "outputs": [
    {
     "name": "stdout",
     "output_type": "stream",
     "text": [
      "(0, 2)\n",
      "(1, 54)\n",
      "(2, 78)\n",
      "(3, 89)\n",
      "(4, 'python')\n",
      "(5, (6+6j))\n",
      "(6, [56, 67, 78, 'rajakurmari'])\n"
     ]
    }
   ],
   "source": [
    "for i in enumerate(l):\n",
    "    print(i)"
   ]
  },
  {
   "cell_type": "code",
   "execution_count": null,
   "id": "157d687f",
   "metadata": {},
   "outputs": [],
   "source": []
  },
  {
   "cell_type": "code",
   "execution_count": 83,
   "id": "a184c90c",
   "metadata": {},
   "outputs": [
    {
     "name": "stdout",
     "output_type": "stream",
     "text": [
      "2\n",
      "54\n",
      "78\n",
      "89\n",
      "56\n",
      "67\n",
      "78\n"
     ]
    }
   ],
   "source": [
    "# b) Try to extract all the list of characters if the element is string\n",
    "a1=[]\n",
    "a2=[]\n",
    "for i in l:\n",
    "    if type(i)==int:\n",
    "        print(i)\n",
    "        a1.append(i)\n",
    "    elif type(i)==list:\n",
    "            for j in i:\n",
    "                if type(j)==int:\n",
    "                    print(j)\n",
    "                    a2.append(j)\n"
   ]
  },
  {
   "cell_type": "code",
   "execution_count": 81,
   "id": "de158648",
   "metadata": {},
   "outputs": [
    {
     "data": {
      "text/plain": [
       "[2, 54, 78, 89]"
      ]
     },
     "execution_count": 81,
     "metadata": {},
     "output_type": "execute_result"
    }
   ],
   "source": [
    "a1"
   ]
  },
  {
   "cell_type": "code",
   "execution_count": 84,
   "id": "a91542b2",
   "metadata": {},
   "outputs": [
    {
     "data": {
      "text/plain": [
       "[56, 67, 78]"
      ]
     },
     "execution_count": 84,
     "metadata": {},
     "output_type": "execute_result"
    }
   ],
   "source": [
    "a2"
   ]
  },
  {
   "cell_type": "code",
   "execution_count": 90,
   "id": "a7a7017f",
   "metadata": {},
   "outputs": [
    {
     "data": {
      "text/plain": [
       "[2, 54, 78, 89, 'python', (6+6j), [56, 67, 78, 'rajakurmari']]"
      ]
     },
     "execution_count": 90,
     "metadata": {},
     "output_type": "execute_result"
    }
   ],
   "source": [
    "# c) try to return a list after doing a square of all the elements\n",
    "l"
   ]
  },
  {
   "cell_type": "code",
   "execution_count": 93,
   "id": "f27086fa",
   "metadata": {},
   "outputs": [
    {
     "name": "stdout",
     "output_type": "stream",
     "text": [
      "namepython\n",
      "emailidpython\n",
      "phonenopython\n",
      "addresspython\n"
     ]
    }
   ],
   "source": [
    "l=['name','emailid','phoneno','address']\n",
    "for i in l:\n",
    "    print(i +'python')"
   ]
  },
  {
   "cell_type": "code",
   "execution_count": 94,
   "id": "b18de0ce",
   "metadata": {},
   "outputs": [
    {
     "name": "stdout",
     "output_type": "stream",
     "text": [
      "m\n",
      "l\n",
      "r\n",
      "t\n"
     ]
    }
   ],
   "source": [
    "m='mlrt'\n",
    "for i in m:\n",
    "    print(i)"
   ]
  },
  {
   "cell_type": "code",
   "execution_count": 95,
   "id": "9231d40b",
   "metadata": {},
   "outputs": [
    {
     "data": {
      "text/plain": [
       "['name', 'emailid', 'phoneno', 'address']"
      ]
     },
     "execution_count": 95,
     "metadata": {},
     "output_type": "execute_result"
    }
   ],
   "source": [
    "l"
   ]
  },
  {
   "cell_type": "code",
   "execution_count": 97,
   "id": "00812cda",
   "metadata": {},
   "outputs": [
    {
     "name": "stdout",
     "output_type": "stream",
     "text": [
      "name\n",
      "emailid\n",
      "phoneno\n",
      "address\n",
      "if for loop is not going to complete then itself else block\n"
     ]
    }
   ],
   "source": [
    "for i in l:\n",
    "    print(i)\n",
    "else:\n",
    "        print(\"if for loop is not going to complete then itself else block\")"
   ]
  },
  {
   "cell_type": "code",
   "execution_count": 98,
   "id": "fc664fc5",
   "metadata": {},
   "outputs": [
    {
     "data": {
      "text/plain": [
       "['name', 'emailid', 'phoneno', 'address']"
      ]
     },
     "execution_count": 98,
     "metadata": {},
     "output_type": "execute_result"
    }
   ],
   "source": [
    "l"
   ]
  },
  {
   "cell_type": "code",
   "execution_count": 104,
   "id": "8497a464",
   "metadata": {},
   "outputs": [],
   "source": [
    "for i in l:\n",
    "    if i == 'phoneno':\n",
    "        break\n",
    "        print(i)\n",
    "else:\n",
    "    print(\"check this statements\")"
   ]
  },
  {
   "cell_type": "code",
   "execution_count": 105,
   "id": "4cc25fa5",
   "metadata": {},
   "outputs": [
    {
     "data": {
      "text/plain": [
       "['name', 'emailid', 'phoneno', 'address']"
      ]
     },
     "execution_count": 105,
     "metadata": {},
     "output_type": "execute_result"
    }
   ],
   "source": [
    "l"
   ]
  },
  {
   "cell_type": "code",
   "execution_count": 112,
   "id": "21220f6b",
   "metadata": {},
   "outputs": [],
   "source": [
    "for i in l:\n",
    "    if i == 'phoneno':\n",
    "        break\n",
    "        print(i)\n",
    "else:\n",
    "            print(\"check this statements now\")"
   ]
  },
  {
   "cell_type": "code",
   "execution_count": 113,
   "id": "0b647ab3",
   "metadata": {},
   "outputs": [],
   "source": [
    "b=['name','phone','email','address']"
   ]
  },
  {
   "cell_type": "code",
   "execution_count": 115,
   "id": "d33948e6",
   "metadata": {},
   "outputs": [],
   "source": [
    "for i in b:\n",
    "    if i == 'email':\n",
    "        break\n",
    "        print(i)\n",
    "else:\n",
    "    print(\"check this statements\")"
   ]
  },
  {
   "cell_type": "code",
   "execution_count": 120,
   "id": "9958d8d7",
   "metadata": {},
   "outputs": [],
   "source": [
    "n = 'mlrt'"
   ]
  },
  {
   "cell_type": "code",
   "execution_count": 122,
   "id": "7d12bdd9",
   "metadata": {},
   "outputs": [
    {
     "ename": "NameError",
     "evalue": "name 'r' is not defined",
     "output_type": "error",
     "traceback": [
      "\u001b[1;31m---------------------------------------------------------------------------\u001b[0m",
      "\u001b[1;31mNameError\u001b[0m                                 Traceback (most recent call last)",
      "\u001b[1;32m~\\AppData\\Local\\Temp\\ipykernel_18324\\3185297671.py\u001b[0m in \u001b[0;36m<module>\u001b[1;34m\u001b[0m\n\u001b[0;32m      1\u001b[0m \u001b[1;32mfor\u001b[0m \u001b[0mi\u001b[0m \u001b[1;32min\u001b[0m \u001b[0mn\u001b[0m\u001b[1;33m:\u001b[0m\u001b[1;33m\u001b[0m\u001b[1;33m\u001b[0m\u001b[0m\n\u001b[1;32m----> 2\u001b[1;33m     \u001b[1;32mif\u001b[0m \u001b[0mi\u001b[0m \u001b[1;33m==\u001b[0m \u001b[0mr\u001b[0m\u001b[1;33m:\u001b[0m\u001b[1;33m\u001b[0m\u001b[1;33m\u001b[0m\u001b[0m\n\u001b[0m\u001b[0;32m      3\u001b[0m         \u001b[0mprint\u001b[0m\u001b[1;33m(\u001b[0m\u001b[0mi\u001b[0m\u001b[1;33m)\u001b[0m\u001b[1;33m\u001b[0m\u001b[1;33m\u001b[0m\u001b[0m\n\u001b[0;32m      4\u001b[0m         \u001b[1;32mbreak\u001b[0m\u001b[1;33m\u001b[0m\u001b[1;33m\u001b[0m\u001b[0m\n\u001b[0;32m      5\u001b[0m     \u001b[1;32melse\u001b[0m\u001b[1;33m:\u001b[0m\u001b[1;33m\u001b[0m\u001b[1;33m\u001b[0m\u001b[0m\n",
      "\u001b[1;31mNameError\u001b[0m: name 'r' is not defined"
     ]
    }
   ],
   "source": [
    "for i in n:\n",
    "    if i == r:\n",
    "        print(i)\n",
    "        break\n",
    "    else:\n",
    "        print(\"does not execute\")"
   ]
  },
  {
   "cell_type": "code",
   "execution_count": null,
   "id": "5b4d012c",
   "metadata": {},
   "outputs": [],
   "source": []
  },
  {
   "cell_type": "code",
   "execution_count": null,
   "id": "eb3dc406",
   "metadata": {},
   "outputs": [],
   "source": []
  },
  {
   "cell_type": "code",
   "execution_count": null,
   "id": "94f33afa",
   "metadata": {},
   "outputs": [],
   "source": []
  },
  {
   "cell_type": "code",
   "execution_count": null,
   "id": "631d4dad",
   "metadata": {},
   "outputs": [],
   "source": []
  },
  {
   "cell_type": "code",
   "execution_count": null,
   "id": "c0a937c7",
   "metadata": {},
   "outputs": [],
   "source": []
  },
  {
   "cell_type": "code",
   "execution_count": null,
   "id": "93511dda",
   "metadata": {},
   "outputs": [],
   "source": []
  }
 ],
 "metadata": {
  "kernelspec": {
   "display_name": "Python 3 (ipykernel)",
   "language": "python",
   "name": "python3"
  },
  "language_info": {
   "codemirror_mode": {
    "name": "ipython",
    "version": 3
   },
   "file_extension": ".py",
   "mimetype": "text/x-python",
   "name": "python",
   "nbconvert_exporter": "python",
   "pygments_lexer": "ipython3",
   "version": "3.9.13"
  }
 },
 "nbformat": 4,
 "nbformat_minor": 5
}

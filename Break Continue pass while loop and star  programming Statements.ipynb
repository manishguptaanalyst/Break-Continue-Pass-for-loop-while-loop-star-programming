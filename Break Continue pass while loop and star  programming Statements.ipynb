{
 "cells": [
  {
   "cell_type": "code",
   "execution_count": 1,
   "id": "b7f3a8cd",
   "metadata": {},
   "outputs": [],
   "source": [
    "l = ['name','emailid','phoneno','address']"
   ]
  },
  {
   "cell_type": "code",
   "execution_count": 3,
   "id": "e2075a6a",
   "metadata": {},
   "outputs": [],
   "source": [
    "for i in l:\n",
    "    if i == 'phoneno':\n",
    "        break\n",
    "        print(i)\n",
    "        else:\n",
    "        print(\"check this statements\")\n",
    "    "
   ]
  },
  {
   "cell_type": "code",
   "execution_count": 4,
   "id": "a5f01f99",
   "metadata": {},
   "outputs": [],
   "source": [
    "m = 'mlrt'"
   ]
  },
  {
   "cell_type": "code",
   "execution_count": 5,
   "id": "aea87d74",
   "metadata": {},
   "outputs": [
    {
     "name": "stdout",
     "output_type": "stream",
     "text": [
      "does not execute\n",
      "does not execute\n",
      "r\n"
     ]
    }
   ],
   "source": [
    "for i in m:\n",
    "    if i == 'r':\n",
    "        print(i)\n",
    "        break\n",
    "    else:\n",
    "        print(\"does not execute\")"
   ]
  },
  {
   "cell_type": "code",
   "execution_count": 9,
   "id": "d0c7484b",
   "metadata": {},
   "outputs": [
    {
     "name": "stdout",
     "output_type": "stream",
     "text": [
      "s\n"
     ]
    }
   ],
   "source": [
    "a='manish'\n",
    "for i in a:\n",
    "    if i == 's':\n",
    "        print(i)\n",
    "        break\n",
    "else:\n",
    "            print(\"do not execute\")"
   ]
  },
  {
   "cell_type": "code",
   "execution_count": 12,
   "id": "616ccc3e",
   "metadata": {},
   "outputs": [
    {
     "name": "stdout",
     "output_type": "stream",
     "text": [
      "does not execute\n"
     ]
    }
   ],
   "source": [
    "b = ['name','emailid','phone','address']\n",
    "for i in b:\n",
    "    if i == 'emailid':\n",
    "        break\n",
    "        print(i)\n",
    "    else:\n",
    "        print(\"does not execute\")"
   ]
  },
  {
   "cell_type": "code",
   "execution_count": 14,
   "id": "3029be12",
   "metadata": {},
   "outputs": [
    {
     "name": "stdout",
     "output_type": "stream",
     "text": [
      "does not execute\n",
      "emailid\n",
      "does not execute\n",
      "does not execute\n"
     ]
    }
   ],
   "source": [
    "b = ['name','emailid','phone','address']\n",
    "for i in b:\n",
    "    if i == 'emailid':\n",
    "        pass # when ever the condition is satisfy, no need to do anything\n",
    "        print(i)\n",
    "    else:\n",
    "        print(\"does not execute\")"
   ]
  },
  {
   "cell_type": "code",
   "execution_count": 15,
   "id": "bc1392fe",
   "metadata": {},
   "outputs": [
    {
     "name": "stdout",
     "output_type": "stream",
     "text": [
      "does not execute\n",
      "emailid\n",
      "does not execute\n",
      "does not execute\n"
     ]
    }
   ],
   "source": [
    "b = ['name','emailid','phone','address']\n",
    "for i in b:\n",
    "    if i == 'emailid':\n",
    "        print(i)\n",
    "        pass # when ever the condition is satisfy, no need to do anything\n",
    "        # print(i)\n",
    "    else:\n",
    "        print(\"does not execute\")"
   ]
  },
  {
   "cell_type": "code",
   "execution_count": 16,
   "id": "6194dc4e",
   "metadata": {},
   "outputs": [
    {
     "data": {
      "text/plain": [
       "['name', 'emailid', 'phoneno', 'address']"
      ]
     },
     "execution_count": 16,
     "metadata": {},
     "output_type": "execute_result"
    }
   ],
   "source": [
    "l"
   ]
  },
  {
   "cell_type": "code",
   "execution_count": 17,
   "id": "73c6aa2d",
   "metadata": {},
   "outputs": [],
   "source": [
    "for i in l:\n",
    "    pass"
   ]
  },
  {
   "cell_type": "code",
   "execution_count": 22,
   "id": "785c6a5d",
   "metadata": {},
   "outputs": [
    {
     "name": "stdout",
     "output_type": "stream",
     "text": [
      "1\n",
      "2\n",
      "3\n",
      "4\n",
      "5\n",
      "6\n"
     ]
    }
   ],
   "source": [
    "c = 1\n",
    "while c < 7:\n",
    "    print(c)\n",
    "    c=c+1\n",
    "    "
   ]
  },
  {
   "cell_type": "code",
   "execution_count": 24,
   "id": "8292b708",
   "metadata": {},
   "outputs": [
    {
     "name": "stdout",
     "output_type": "stream",
     "text": [
      "1\n",
      "2\n",
      "3\n",
      "4\n"
     ]
    }
   ],
   "source": [
    "c = 1\n",
    "while c < 7:\n",
    "    print(c)\n",
    "    if c == 4:\n",
    "        break\n",
    "    c=c+1"
   ]
  },
  {
   "cell_type": "code",
   "execution_count": null,
   "id": "514f80c9",
   "metadata": {},
   "outputs": [],
   "source": [
    "c = 1\n",
    "while c < 7:\n",
    "    print(c)\n",
    "    if c == 4:\n",
    "        continue # it will skip the current iteration and it will execute the remaining iteration\n",
    "    c=c+1"
   ]
  },
  {
   "cell_type": "code",
   "execution_count": 1,
   "id": "e3126c6b",
   "metadata": {},
   "outputs": [
    {
     "name": "stdout",
     "output_type": "stream",
     "text": [
      "1\n",
      "2\n",
      "3\n",
      "4\n"
     ]
    }
   ],
   "source": [
    "a=1\n",
    "while a < 5:\n",
    "    print(a)\n",
    "    a=a+1\n",
    "    if a == 3:\n",
    "        continue"
   ]
  },
  {
   "cell_type": "code",
   "execution_count": 3,
   "id": "9684061f",
   "metadata": {},
   "outputs": [
    {
     "data": {
      "text/plain": [
       "[2, 54, 78, 79, 'python', (6+8j), [56, 67, 78, 'manishgupta']]"
      ]
     },
     "execution_count": 3,
     "metadata": {},
     "output_type": "execute_result"
    }
   ],
   "source": [
    "l = [2,54,78,79,'python',(6+8j),[56,67,78,'manishgupta']]\n",
    "l"
   ]
  },
  {
   "cell_type": "code",
   "execution_count": 6,
   "id": "c49c5497",
   "metadata": {},
   "outputs": [
    {
     "name": "stdout",
     "output_type": "stream",
     "text": [
      "['p', 'y', 't', 'h', 'o', 'n']\n"
     ]
    }
   ],
   "source": [
    "# b) try to extract all the list of characters if the element is string\n",
    "\n",
    "for i in l:\n",
    "    if type(i) == str:\n",
    "        l1=[]\n",
    "        for j in i:\n",
    "            l1.append(j)\n",
    "        print(l1)"
   ]
  },
  {
   "cell_type": "code",
   "execution_count": 8,
   "id": "c106aaf7",
   "metadata": {},
   "outputs": [
    {
     "name": "stdout",
     "output_type": "stream",
     "text": [
      "['manishgupta']\n"
     ]
    }
   ],
   "source": [
    "l2=[]\n",
    "for i in l:\n",
    "    if type(i)==list:\n",
    "        for j in i:\n",
    "            if type(j) == str:\n",
    "                l2.append(j)\n",
    "                print(l2)\n",
    "    "
   ]
  },
  {
   "cell_type": "code",
   "execution_count": 10,
   "id": "90c14302",
   "metadata": {},
   "outputs": [],
   "source": [
    "# c) try to return a list after doing  a square of all the elements\n",
    "l3=[]\n",
    "for i in l:\n",
    "    if type(i)==int:\n",
    "        l3.append(i**2)\n",
    "    "
   ]
  },
  {
   "cell_type": "code",
   "execution_count": 12,
   "id": "212afa80",
   "metadata": {},
   "outputs": [
    {
     "data": {
      "text/plain": [
       "[4, 2916, 6084, 6241]"
      ]
     },
     "execution_count": 12,
     "metadata": {},
     "output_type": "execute_result"
    }
   ],
   "source": [
    "l3"
   ]
  },
  {
   "cell_type": "code",
   "execution_count": 13,
   "id": "ba56af0f",
   "metadata": {},
   "outputs": [
    {
     "data": {
      "text/plain": [
       "range(0, 7)"
      ]
     },
     "execution_count": 13,
     "metadata": {},
     "output_type": "execute_result"
    }
   ],
   "source": [
    "range(7)"
   ]
  },
  {
   "cell_type": "code",
   "execution_count": 14,
   "id": "b9dfa832",
   "metadata": {},
   "outputs": [
    {
     "data": {
      "text/plain": [
       "[0, 1, 2, 3, 4, 5, 6]"
      ]
     },
     "execution_count": 14,
     "metadata": {},
     "output_type": "execute_result"
    }
   ],
   "source": [
    "list(range(7))"
   ]
  },
  {
   "cell_type": "code",
   "execution_count": 18,
   "id": "f21f41cb",
   "metadata": {},
   "outputs": [
    {
     "data": {
      "text/plain": [
       "[5]"
      ]
     },
     "execution_count": 18,
     "metadata": {},
     "output_type": "execute_result"
    }
   ],
   "source": [
    "list(range(5,6))"
   ]
  },
  {
   "cell_type": "code",
   "execution_count": 19,
   "id": "4ec2a84c",
   "metadata": {},
   "outputs": [
    {
     "data": {
      "text/plain": [
       "[5, 10, 15, 20, 25, 30, 35, 40, 45, 50, 55, 60, 65, 70, 75, 80, 85, 90, 95]"
      ]
     },
     "execution_count": 19,
     "metadata": {},
     "output_type": "execute_result"
    }
   ],
   "source": [
    "list(range(5,99,5))"
   ]
  },
  {
   "cell_type": "code",
   "execution_count": 20,
   "id": "97e3386b",
   "metadata": {},
   "outputs": [
    {
     "data": {
      "text/plain": [
       "[3, 4, 5, 6, 7, 8, 9]"
      ]
     },
     "execution_count": 20,
     "metadata": {},
     "output_type": "execute_result"
    }
   ],
   "source": [
    "list(range(3,10,1))"
   ]
  },
  {
   "cell_type": "code",
   "execution_count": 21,
   "id": "c1fb4018",
   "metadata": {},
   "outputs": [
    {
     "data": {
      "text/plain": [
       "[]"
      ]
     },
     "execution_count": 21,
     "metadata": {},
     "output_type": "execute_result"
    }
   ],
   "source": [
    "list(range(3,10,-1))"
   ]
  },
  {
   "cell_type": "code",
   "execution_count": 22,
   "id": "cc78d421",
   "metadata": {},
   "outputs": [
    {
     "data": {
      "text/plain": [
       "[10, 9, 8, 7]"
      ]
     },
     "execution_count": 22,
     "metadata": {},
     "output_type": "execute_result"
    }
   ],
   "source": [
    "list(range(10,6,-1))"
   ]
  },
  {
   "cell_type": "code",
   "execution_count": 23,
   "id": "050b2e4c",
   "metadata": {},
   "outputs": [
    {
     "data": {
      "text/plain": [
       "[10, 8, 6, 4, 2, 0, -2, -4]"
      ]
     },
     "execution_count": 23,
     "metadata": {},
     "output_type": "execute_result"
    }
   ],
   "source": [
    "list(range(10,-5,-2))"
   ]
  },
  {
   "cell_type": "code",
   "execution_count": 25,
   "id": "b82380ad",
   "metadata": {},
   "outputs": [
    {
     "name": "stdout",
     "output_type": "stream",
     "text": [
      "0\n",
      "1\n",
      "2\n",
      "3\n",
      "4\n",
      "5\n",
      "6\n"
     ]
    }
   ],
   "source": [
    "for i in range(7):\n",
    "    print(i)"
   ]
  },
  {
   "cell_type": "code",
   "execution_count": 26,
   "id": "10453811",
   "metadata": {},
   "outputs": [
    {
     "data": {
      "text/plain": [
       "range(0, 10)"
      ]
     },
     "execution_count": 26,
     "metadata": {},
     "output_type": "execute_result"
    }
   ],
   "source": [
    "range(0,10)"
   ]
  },
  {
   "cell_type": "code",
   "execution_count": 29,
   "id": "94095023",
   "metadata": {},
   "outputs": [
    {
     "data": {
      "text/plain": [
       "[4, 5, 6, 7, 8, 9]"
      ]
     },
     "execution_count": 29,
     "metadata": {},
     "output_type": "execute_result"
    }
   ],
   "source": [
    "list(range(4,10))"
   ]
  },
  {
   "cell_type": "code",
   "execution_count": 30,
   "id": "3908abae",
   "metadata": {},
   "outputs": [
    {
     "data": {
      "text/plain": [
       "[3, 8, 13, 18, 23, 28, 33, 38, 43, 48]"
      ]
     },
     "execution_count": 30,
     "metadata": {},
     "output_type": "execute_result"
    }
   ],
   "source": [
    "list(range(3,50,5))"
   ]
  },
  {
   "cell_type": "code",
   "execution_count": 31,
   "id": "8e68039f",
   "metadata": {},
   "outputs": [
    {
     "data": {
      "text/plain": [
       "[3, 4, 5, 6, 7, 8, 9]"
      ]
     },
     "execution_count": 31,
     "metadata": {},
     "output_type": "execute_result"
    }
   ],
   "source": [
    "list(range(3,10,1))"
   ]
  },
  {
   "cell_type": "code",
   "execution_count": 32,
   "id": "63ecb8e7",
   "metadata": {},
   "outputs": [
    {
     "data": {
      "text/plain": [
       "[]"
      ]
     },
     "execution_count": 32,
     "metadata": {},
     "output_type": "execute_result"
    }
   ],
   "source": [
    "list(range(3,10,-1))"
   ]
  },
  {
   "cell_type": "code",
   "execution_count": 33,
   "id": "61b5b423",
   "metadata": {},
   "outputs": [
    {
     "data": {
      "text/plain": [
       "[10, 8, 6, 4, 2, 0, -2, -4]"
      ]
     },
     "execution_count": 33,
     "metadata": {},
     "output_type": "execute_result"
    }
   ],
   "source": [
    "list(range(10,-5,-2))"
   ]
  },
  {
   "cell_type": "code",
   "execution_count": 34,
   "id": "c1672998",
   "metadata": {},
   "outputs": [
    {
     "name": "stdout",
     "output_type": "stream",
     "text": [
      "0\n",
      "1\n",
      "2\n",
      "3\n",
      "4\n",
      "5\n",
      "6\n"
     ]
    }
   ],
   "source": [
    "for i in range(7):\n",
    "    print(i)"
   ]
  },
  {
   "cell_type": "code",
   "execution_count": 39,
   "id": "1a9f80c6",
   "metadata": {},
   "outputs": [
    {
     "name": "stdout",
     "output_type": "stream",
     "text": [
      "Enter the Number5\n",
      "* \n",
      "* * \n",
      "* * * \n",
      "* * * * \n",
      "* * * * * \n"
     ]
    }
   ],
   "source": [
    "n=int(input(\"Enter the Number\"))\n",
    "for i in range(0,n):\n",
    "    for j in range(0, i+1):\n",
    "        print(\"*\",end=\" \")\n",
    "    print(\"\\r\")\n",
    "    "
   ]
  },
  {
   "cell_type": "code",
   "execution_count": 41,
   "id": "107ae9b8",
   "metadata": {},
   "outputs": [
    {
     "name": "stdout",
     "output_type": "stream",
     "text": [
      "Enter the Number4\n",
      "*\n",
      "**\n",
      "***\n",
      "****\n"
     ]
    }
   ],
   "source": [
    "m=int(input(\"Enter the Number\"))\n",
    "for i in range(0,m):\n",
    "    for j in range(0, i+1):\n",
    "        print(\"*\",end=\"\")\n",
    "    print(\"\\r\")"
   ]
  },
  {
   "cell_type": "code",
   "execution_count": 46,
   "id": "99535fe6",
   "metadata": {},
   "outputs": [
    {
     "name": "stdout",
     "output_type": "stream",
     "text": [
      "enter the number6\n",
      "*\n",
      "\n",
      "**\n",
      "\n",
      "***\n",
      "\n",
      "****\n",
      "\n",
      "*****\n",
      "\n",
      "******\n",
      "\n"
     ]
    }
   ],
   "source": [
    "s=int(input(\"enter the number\"))\n",
    "for row in range(0,s):\n",
    "    for column in range(0, row+1):\n",
    "        print(\"*\", end=\"\")\n",
    "    print(\"\\n\")"
   ]
  },
  {
   "cell_type": "code",
   "execution_count": 47,
   "id": "6a8b374b",
   "metadata": {},
   "outputs": [
    {
     "name": "stdout",
     "output_type": "stream",
     "text": [
      "1\n",
      "2\n",
      "3\n",
      "4\n",
      "5\n",
      "6\n",
      "7\n",
      "8\n",
      "9\n"
     ]
    }
   ],
   "source": [
    "l = [1,2,3,4,5,6,7,8,9]\n",
    "for i in l:\n",
    "    print(i)"
   ]
  },
  {
   "cell_type": "code",
   "execution_count": 49,
   "id": "ca61889c",
   "metadata": {},
   "outputs": [
    {
     "data": {
      "text/plain": [
       "9"
      ]
     },
     "execution_count": 49,
     "metadata": {},
     "output_type": "execute_result"
    }
   ],
   "source": [
    "t = (2,3,4,5,6,7,88,99,1)\n",
    "len(t)"
   ]
  },
  {
   "cell_type": "code",
   "execution_count": 50,
   "id": "ed87ddb2",
   "metadata": {},
   "outputs": [
    {
     "data": {
      "text/plain": [
       "range(0, 9)"
      ]
     },
     "execution_count": 50,
     "metadata": {},
     "output_type": "execute_result"
    }
   ],
   "source": [
    "range(len(t))"
   ]
  },
  {
   "cell_type": "code",
   "execution_count": 53,
   "id": "f8c331fd",
   "metadata": {},
   "outputs": [
    {
     "name": "stdout",
     "output_type": "stream",
     "text": [
      "0 2\n",
      "1 3\n",
      "2 4\n",
      "3 5\n",
      "4 6\n",
      "5 7\n",
      "6 88\n",
      "7 99\n",
      "8 1\n"
     ]
    }
   ],
   "source": [
    "for i in range(len(t)):\n",
    "    print(i,t[i])\n"
   ]
  },
  {
   "cell_type": "code",
   "execution_count": 54,
   "id": "9521bac5",
   "metadata": {},
   "outputs": [
    {
     "data": {
      "text/plain": [
       "(2, 3, 4, 5, 6, 7, 88, 99, 1)"
      ]
     },
     "execution_count": 54,
     "metadata": {},
     "output_type": "execute_result"
    }
   ],
   "source": [
    "t"
   ]
  },
  {
   "cell_type": "code",
   "execution_count": 55,
   "id": "bf1c7462",
   "metadata": {},
   "outputs": [
    {
     "data": {
      "text/plain": [
       "(1, 99, 88, 7, 6, 5, 4, 3, 2)"
      ]
     },
     "execution_count": 55,
     "metadata": {},
     "output_type": "execute_result"
    }
   ],
   "source": [
    "t[::-1]"
   ]
  },
  {
   "cell_type": "code",
   "execution_count": 59,
   "id": "2fad2f2f",
   "metadata": {},
   "outputs": [
    {
     "data": {
      "text/plain": [
       "[9, 8, 7, 6, 5, 4, 3, 2, 1]"
      ]
     },
     "execution_count": 59,
     "metadata": {},
     "output_type": "execute_result"
    }
   ],
   "source": [
    "list(range(len(t),0,-1))"
   ]
  },
  {
   "cell_type": "code",
   "execution_count": 60,
   "id": "b1573e33",
   "metadata": {},
   "outputs": [
    {
     "data": {
      "text/plain": [
       "[0, 1, 2, 3, 4, 5, 6, 7, 8]"
      ]
     },
     "execution_count": 60,
     "metadata": {},
     "output_type": "execute_result"
    }
   ],
   "source": [
    "list(range(len(t)))"
   ]
  },
  {
   "cell_type": "code",
   "execution_count": 62,
   "id": "de60ea69",
   "metadata": {},
   "outputs": [
    {
     "data": {
      "text/plain": [
       "9"
      ]
     },
     "execution_count": 62,
     "metadata": {},
     "output_type": "execute_result"
    }
   ],
   "source": [
    "len(t)"
   ]
  },
  {
   "cell_type": "code",
   "execution_count": 64,
   "id": "8f083ac9",
   "metadata": {},
   "outputs": [
    {
     "data": {
      "text/plain": [
       "1"
      ]
     },
     "execution_count": 64,
     "metadata": {},
     "output_type": "execute_result"
    }
   ],
   "source": [
    "t[8]"
   ]
  },
  {
   "cell_type": "code",
   "execution_count": 2,
   "id": "ad9b1aeb",
   "metadata": {},
   "outputs": [
    {
     "ename": "NameError",
     "evalue": "name 't' is not defined",
     "output_type": "error",
     "traceback": [
      "\u001b[1;31m---------------------------------------------------------------------------\u001b[0m",
      "\u001b[1;31mNameError\u001b[0m                                 Traceback (most recent call last)",
      "\u001b[1;32m~\\AppData\\Local\\Temp\\ipykernel_19060\\3078249566.py\u001b[0m in \u001b[0;36m<module>\u001b[1;34m\u001b[0m\n\u001b[1;32m----> 1\u001b[1;33m \u001b[1;32mfor\u001b[0m \u001b[0mi\u001b[0m \u001b[1;32min\u001b[0m \u001b[0mrange\u001b[0m\u001b[1;33m(\u001b[0m\u001b[0mlen\u001b[0m\u001b[1;33m(\u001b[0m\u001b[0mt\u001b[0m\u001b[1;33m)\u001b[0m\u001b[1;33m-\u001b[0m\u001b[1;36m1\u001b[0m\u001b[1;33m,\u001b[0m\u001b[1;36m0\u001b[0m\u001b[1;33m,\u001b[0m\u001b[1;33m-\u001b[0m\u001b[1;36m1\u001b[0m\u001b[1;33m)\u001b[0m\u001b[1;33m:\u001b[0m\u001b[1;33m\u001b[0m\u001b[1;33m\u001b[0m\u001b[0m\n\u001b[0m\u001b[0;32m      2\u001b[0m     \u001b[0mprint\u001b[0m\u001b[1;33m(\u001b[0m\u001b[0mi\u001b[0m\u001b[1;33m,\u001b[0m\u001b[0mt\u001b[0m\u001b[1;33m[\u001b[0m\u001b[0mi\u001b[0m\u001b[1;33m]\u001b[0m\u001b[1;33m)\u001b[0m\u001b[1;33m\u001b[0m\u001b[1;33m\u001b[0m\u001b[0m\n",
      "\u001b[1;31mNameError\u001b[0m: name 't' is not defined"
     ]
    }
   ],
   "source": [
    "for i in range(len(t)-1,0,-1):\n",
    "    print(i,t[i])\n"
   ]
  },
  {
   "cell_type": "code",
   "execution_count": 3,
   "id": "7bf55279",
   "metadata": {},
   "outputs": [],
   "source": [
    "t=(3,4,4,5,6,7,7)"
   ]
  },
  {
   "cell_type": "code",
   "execution_count": 6,
   "id": "7a5c9bd3",
   "metadata": {},
   "outputs": [
    {
     "name": "stdout",
     "output_type": "stream",
     "text": [
      "0 3\n",
      "1 4\n",
      "2 4\n",
      "3 5\n",
      "4 6\n",
      "5 7\n",
      "6 7\n"
     ]
    }
   ],
   "source": [
    "for i in range(len(t)):\n",
    "    print(i,t[i])\n"
   ]
  },
  {
   "cell_type": "code",
   "execution_count": 7,
   "id": "779430cd",
   "metadata": {},
   "outputs": [
    {
     "data": {
      "text/plain": [
       "(3, 4, 4, 5, 6, 7, 7)"
      ]
     },
     "execution_count": 7,
     "metadata": {},
     "output_type": "execute_result"
    }
   ],
   "source": [
    "t"
   ]
  },
  {
   "cell_type": "code",
   "execution_count": 8,
   "id": "d093af52",
   "metadata": {},
   "outputs": [
    {
     "data": {
      "text/plain": [
       "(7, 7, 6, 5, 4, 4, 3)"
      ]
     },
     "execution_count": 8,
     "metadata": {},
     "output_type": "execute_result"
    }
   ],
   "source": [
    "t[::-1]"
   ]
  },
  {
   "cell_type": "code",
   "execution_count": 9,
   "id": "2d61d20a",
   "metadata": {},
   "outputs": [
    {
     "data": {
      "text/plain": [
       "range(0, 7)"
      ]
     },
     "execution_count": 9,
     "metadata": {},
     "output_type": "execute_result"
    }
   ],
   "source": [
    "range(0,7)"
   ]
  },
  {
   "cell_type": "code",
   "execution_count": 11,
   "id": "5ab1d092",
   "metadata": {},
   "outputs": [
    {
     "data": {
      "text/plain": [
       "[0, 1, 2, 3, 4, 5, 6]"
      ]
     },
     "execution_count": 11,
     "metadata": {},
     "output_type": "execute_result"
    }
   ],
   "source": [
    "list(range(0,7))"
   ]
  },
  {
   "cell_type": "code",
   "execution_count": 12,
   "id": "7b77c620",
   "metadata": {},
   "outputs": [
    {
     "data": {
      "text/plain": [
       "7"
      ]
     },
     "execution_count": 12,
     "metadata": {},
     "output_type": "execute_result"
    }
   ],
   "source": [
    "len(t)"
   ]
  },
  {
   "cell_type": "code",
   "execution_count": 15,
   "id": "e96142e7",
   "metadata": {},
   "outputs": [
    {
     "data": {
      "text/plain": [
       "[0, 1, 2, 3, 4, 5, 6]"
      ]
     },
     "execution_count": 15,
     "metadata": {},
     "output_type": "execute_result"
    }
   ],
   "source": [
    "list(range(len(t)))"
   ]
  },
  {
   "cell_type": "code",
   "execution_count": 16,
   "id": "f229a339",
   "metadata": {},
   "outputs": [
    {
     "data": {
      "text/plain": [
       "[7, 6, 5, 4, 3, 2, 1]"
      ]
     },
     "execution_count": 16,
     "metadata": {},
     "output_type": "execute_result"
    }
   ],
   "source": [
    "list(range(len(t),0,-1))"
   ]
  },
  {
   "cell_type": "code",
   "execution_count": 20,
   "id": "ddd233a4",
   "metadata": {},
   "outputs": [
    {
     "name": "stdout",
     "output_type": "stream",
     "text": [
      "7\n",
      "7\n",
      "6\n",
      "5\n",
      "4\n",
      "4\n",
      "3\n"
     ]
    }
   ],
   "source": [
    "for i in range(len(t)-1,-1,-1):\n",
    "    print(t[i])"
   ]
  },
  {
   "cell_type": "code",
   "execution_count": 19,
   "id": "26a12c62",
   "metadata": {},
   "outputs": [
    {
     "data": {
      "text/plain": [
       "(3, 4, 4, 5, 6, 7, 7)"
      ]
     },
     "execution_count": 19,
     "metadata": {},
     "output_type": "execute_result"
    }
   ],
   "source": [
    "t"
   ]
  },
  {
   "cell_type": "code",
   "execution_count": null,
   "id": "ecde1bec",
   "metadata": {},
   "outputs": [],
   "source": []
  },
  {
   "cell_type": "code",
   "execution_count": null,
   "id": "f9990702",
   "metadata": {},
   "outputs": [],
   "source": []
  },
  {
   "cell_type": "code",
   "execution_count": null,
   "id": "3dfe0610",
   "metadata": {},
   "outputs": [],
   "source": []
  },
  {
   "cell_type": "code",
   "execution_count": null,
   "id": "fb473334",
   "metadata": {},
   "outputs": [],
   "source": []
  },
  {
   "cell_type": "code",
   "execution_count": null,
   "id": "1743b08d",
   "metadata": {},
   "outputs": [],
   "source": []
  },
  {
   "cell_type": "code",
   "execution_count": null,
   "id": "b46685d1",
   "metadata": {},
   "outputs": [],
   "source": []
  },
  {
   "cell_type": "code",
   "execution_count": null,
   "id": "15b08a9f",
   "metadata": {},
   "outputs": [],
   "source": []
  },
  {
   "cell_type": "code",
   "execution_count": null,
   "id": "7a88ee0e",
   "metadata": {},
   "outputs": [],
   "source": []
  },
  {
   "cell_type": "code",
   "execution_count": null,
   "id": "7ed322a8",
   "metadata": {},
   "outputs": [],
   "source": []
  },
  {
   "cell_type": "code",
   "execution_count": null,
   "id": "9d2359fc",
   "metadata": {},
   "outputs": [],
   "source": []
  },
  {
   "cell_type": "code",
   "execution_count": null,
   "id": "5177a2ef",
   "metadata": {},
   "outputs": [],
   "source": []
  },
  {
   "cell_type": "code",
   "execution_count": null,
   "id": "6a6c7752",
   "metadata": {},
   "outputs": [],
   "source": []
  }
 ],
 "metadata": {
  "kernelspec": {
   "display_name": "Python 3 (ipykernel)",
   "language": "python",
   "name": "python3"
  },
  "language_info": {
   "codemirror_mode": {
    "name": "ipython",
    "version": 3
   },
   "file_extension": ".py",
   "mimetype": "text/x-python",
   "name": "python",
   "nbconvert_exporter": "python",
   "pygments_lexer": "ipython3",
   "version": "3.9.13"
  }
 },
 "nbformat": 4,
 "nbformat_minor": 5
}

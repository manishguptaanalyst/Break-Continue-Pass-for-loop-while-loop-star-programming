{
 "cells": [
  {
   "cell_type": "code",
   "execution_count": null,
   "id": "7483c485",
   "metadata": {},
   "outputs": [],
   "source": [
    "# 1. system programming\n",
    "# 2. GUI Interface\n",
    "# 3. Web Scrapping\n",
    "# 4. Database\n",
    "# 5. Scintific Programming\n",
    "# 6. Game Development\n",
    "# 7. Image Processing\n",
    "# 8. Robbotics\n",
    "# 9. "
   ]
  },
  {
   "cell_type": "code",
   "execution_count": 1,
   "id": "0bb42711",
   "metadata": {},
   "outputs": [
    {
     "name": "stdout",
     "output_type": "stream",
     "text": [
      "The Zen of Python, by Tim Peters\n",
      "\n",
      "Beautiful is better than ugly.\n",
      "Explicit is better than implicit.\n",
      "Simple is better than complex.\n",
      "Complex is better than complicated.\n",
      "Flat is better than nested.\n",
      "Sparse is better than dense.\n",
      "Readability counts.\n",
      "Special cases aren't special enough to break the rules.\n",
      "Although practicality beats purity.\n",
      "Errors should never pass silently.\n",
      "Unless explicitly silenced.\n",
      "In the face of ambiguity, refuse the temptation to guess.\n",
      "There should be one-- and preferably only one --obvious way to do it.\n",
      "Although that way may not be obvious at first unless you're Dutch.\n",
      "Now is better than never.\n",
      "Although never is often better than *right* now.\n",
      "If the implementation is hard to explain, it's a bad idea.\n",
      "If the implementation is easy to explain, it may be a good idea.\n",
      "Namespaces are one honking great idea -- let's do more of those!\n"
     ]
    }
   ],
   "source": [
    "import this"
   ]
  },
  {
   "cell_type": "code",
   "execution_count": 2,
   "id": "263fcd99",
   "metadata": {},
   "outputs": [
    {
     "name": "stdout",
     "output_type": "stream",
     "text": [
      "python is good programming\n"
     ]
    }
   ],
   "source": [
    "print(\"python is good programming\")"
   ]
  },
  {
   "cell_type": "code",
   "execution_count": 3,
   "id": "39505c17",
   "metadata": {},
   "outputs": [
    {
     "data": {
      "text/plain": [
       "3"
      ]
     },
     "execution_count": 3,
     "metadata": {},
     "output_type": "execute_result"
    }
   ],
   "source": [
    "1+2"
   ]
  },
  {
   "cell_type": "code",
   "execution_count": null,
   "id": "eb9c213a",
   "metadata": {},
   "outputs": [],
   "source": [
    "# 1. one is in scripting style, oops concept ----- modular programming"
   ]
  },
  {
   "cell_type": "code",
   "execution_count": 7,
   "id": "6f64a95e",
   "metadata": {},
   "outputs": [
    {
     "name": "stdout",
     "output_type": "stream",
     "text": [
      "0\n",
      "1\n",
      "2\n",
      "3\n",
      "4\n",
      "5\n",
      "6\n",
      "7\n",
      "8\n",
      "9\n"
     ]
    }
   ],
   "source": [
    "for i in range(10):\n",
    "    print(i, end =\"\\n\")"
   ]
  },
  {
   "cell_type": "code",
   "execution_count": 8,
   "id": "9d0a6949",
   "metadata": {},
   "outputs": [
    {
     "data": {
      "text/plain": [
       "str"
      ]
     },
     "execution_count": 8,
     "metadata": {},
     "output_type": "execute_result"
    }
   ],
   "source": [
    "a = \"mlrt\"\n",
    "type(a)"
   ]
  },
  {
   "cell_type": "code",
   "execution_count": 9,
   "id": "690d4be6",
   "metadata": {},
   "outputs": [
    {
     "data": {
      "text/plain": [
       "'l'"
      ]
     },
     "execution_count": 9,
     "metadata": {},
     "output_type": "execute_result"
    }
   ],
   "source": [
    "a[1]"
   ]
  },
  {
   "cell_type": "code",
   "execution_count": 10,
   "id": "749a88b6",
   "metadata": {},
   "outputs": [
    {
     "data": {
      "text/plain": [
       "'r'"
      ]
     },
     "execution_count": 10,
     "metadata": {},
     "output_type": "execute_result"
    }
   ],
   "source": [
    "a[2]"
   ]
  },
  {
   "cell_type": "code",
   "execution_count": 11,
   "id": "c0eb3177",
   "metadata": {},
   "outputs": [
    {
     "data": {
      "text/plain": [
       "'m'"
      ]
     },
     "execution_count": 11,
     "metadata": {},
     "output_type": "execute_result"
    }
   ],
   "source": [
    "a[0]"
   ]
  },
  {
   "cell_type": "code",
   "execution_count": 12,
   "id": "cde4901d",
   "metadata": {},
   "outputs": [
    {
     "data": {
      "text/plain": [
       "'t'"
      ]
     },
     "execution_count": 12,
     "metadata": {},
     "output_type": "execute_result"
    }
   ],
   "source": [
    "a[3]"
   ]
  },
  {
   "cell_type": "code",
   "execution_count": 13,
   "id": "e118e147",
   "metadata": {},
   "outputs": [],
   "source": [
    "a=\"my name is mlrt\""
   ]
  },
  {
   "cell_type": "code",
   "execution_count": 14,
   "id": "dcd5642a",
   "metadata": {},
   "outputs": [
    {
     "data": {
      "text/plain": [
       "'my name is mlrt'"
      ]
     },
     "execution_count": 14,
     "metadata": {},
     "output_type": "execute_result"
    }
   ],
   "source": [
    "a"
   ]
  },
  {
   "cell_type": "code",
   "execution_count": 15,
   "id": "d9b63e1f",
   "metadata": {},
   "outputs": [
    {
     "data": {
      "text/plain": [
       "'t'"
      ]
     },
     "execution_count": 15,
     "metadata": {},
     "output_type": "execute_result"
    }
   ],
   "source": [
    "a[-1]"
   ]
  },
  {
   "cell_type": "code",
   "execution_count": 17,
   "id": "5c2175be",
   "metadata": {},
   "outputs": [
    {
     "data": {
      "text/plain": [
       "'m'"
      ]
     },
     "execution_count": 17,
     "metadata": {},
     "output_type": "execute_result"
    }
   ],
   "source": [
    "a[5]"
   ]
  },
  {
   "cell_type": "code",
   "execution_count": 18,
   "id": "abb02e10",
   "metadata": {},
   "outputs": [
    {
     "data": {
      "text/plain": [
       "'my name is'"
      ]
     },
     "execution_count": 18,
     "metadata": {},
     "output_type": "execute_result"
    }
   ],
   "source": [
    "a[0:10]"
   ]
  },
  {
   "cell_type": "code",
   "execution_count": 19,
   "id": "b37c9948",
   "metadata": {},
   "outputs": [
    {
     "data": {
      "text/plain": [
       "'goon'"
      ]
     },
     "execution_count": 19,
     "metadata": {},
     "output_type": "execute_result"
    }
   ],
   "source": [
    "b = \"goonline\"\n",
    "b[0:4]"
   ]
  },
  {
   "cell_type": "code",
   "execution_count": 20,
   "id": "09b8d25e",
   "metadata": {},
   "outputs": [
    {
     "data": {
      "text/plain": [
       "'goonline'"
      ]
     },
     "execution_count": 20,
     "metadata": {},
     "output_type": "execute_result"
    }
   ],
   "source": [
    "b[0:300]"
   ]
  },
  {
   "cell_type": "code",
   "execution_count": 21,
   "id": "a3cc753d",
   "metadata": {},
   "outputs": [
    {
     "data": {
      "text/plain": [
       "'mnesl'"
      ]
     },
     "execution_count": 21,
     "metadata": {},
     "output_type": "execute_result"
    }
   ],
   "source": [
    "a[0:300:3]"
   ]
  },
  {
   "cell_type": "code",
   "execution_count": 22,
   "id": "1eddc8ac",
   "metadata": {},
   "outputs": [
    {
     "data": {
      "text/plain": [
       "'mt'"
      ]
     },
     "execution_count": 22,
     "metadata": {},
     "output_type": "execute_result"
    }
   ],
   "source": [
    "c=\"mlrt\"\n",
    "c[0:200:3]"
   ]
  },
  {
   "cell_type": "code",
   "execution_count": 23,
   "id": "cc7c8021",
   "metadata": {},
   "outputs": [
    {
     "data": {
      "text/plain": [
       "''"
      ]
     },
     "execution_count": 23,
     "metadata": {},
     "output_type": "execute_result"
    }
   ],
   "source": [
    "c[-1:-4]"
   ]
  },
  {
   "cell_type": "code",
   "execution_count": 24,
   "id": "23e0ca3d",
   "metadata": {},
   "outputs": [
    {
     "data": {
      "text/plain": [
       "''"
      ]
     },
     "execution_count": 24,
     "metadata": {},
     "output_type": "execute_result"
    }
   ],
   "source": [
    "c[0:100:-1]"
   ]
  },
  {
   "cell_type": "code",
   "execution_count": 26,
   "id": "7e7bd9d7",
   "metadata": {},
   "outputs": [
    {
     "data": {
      "text/plain": [
       "'trl'"
      ]
     },
     "execution_count": 26,
     "metadata": {},
     "output_type": "execute_result"
    }
   ],
   "source": [
    "c[-1:-4:-1]"
   ]
  },
  {
   "cell_type": "code",
   "execution_count": 28,
   "id": "0fd506a1",
   "metadata": {},
   "outputs": [
    {
     "data": {
      "text/plain": [
       "'m'"
      ]
     },
     "execution_count": 28,
     "metadata": {},
     "output_type": "execute_result"
    }
   ],
   "source": [
    "c[0:-10:-1]"
   ]
  },
  {
   "cell_type": "code",
   "execution_count": 29,
   "id": "90be0d7b",
   "metadata": {},
   "outputs": [
    {
     "data": {
      "text/plain": [
       "'C:\\\\Users\\\\manis'"
      ]
     },
     "execution_count": 29,
     "metadata": {},
     "output_type": "execute_result"
    }
   ],
   "source": [
    "pwd()"
   ]
  },
  {
   "cell_type": "code",
   "execution_count": 30,
   "id": "37acdde0",
   "metadata": {},
   "outputs": [],
   "source": [
    "a=\"python\""
   ]
  },
  {
   "cell_type": "code",
   "execution_count": 31,
   "id": "0784a41b",
   "metadata": {},
   "outputs": [
    {
     "data": {
      "text/plain": [
       "''"
      ]
     },
     "execution_count": 31,
     "metadata": {},
     "output_type": "execute_result"
    }
   ],
   "source": [
    "a[-1:-4]"
   ]
  },
  {
   "cell_type": "code",
   "execution_count": 33,
   "id": "8ebf1514",
   "metadata": {},
   "outputs": [
    {
     "data": {
      "text/plain": [
       "'og htiw gnikro'"
      ]
     },
     "execution_count": 33,
     "metadata": {},
     "output_type": "execute_result"
    }
   ],
   "source": [
    "b=\"I am working with google\"\n",
    "b[-5:+5:-1]"
   ]
  },
  {
   "cell_type": "code",
   "execution_count": 35,
   "id": "832b013d",
   "metadata": {},
   "outputs": [
    {
     "data": {
      "text/plain": [
       "''"
      ]
     },
     "execution_count": 35,
     "metadata": {},
     "output_type": "execute_result"
    }
   ],
   "source": [
    "b[-5:5:1]"
   ]
  },
  {
   "cell_type": "code",
   "execution_count": 36,
   "id": "2a1cfc49",
   "metadata": {},
   "outputs": [
    {
     "data": {
      "text/plain": [
       "'o twgir'"
      ]
     },
     "execution_count": 36,
     "metadata": {},
     "output_type": "execute_result"
    }
   ],
   "source": [
    "b[-5:5:-2]"
   ]
  },
  {
   "cell_type": "code",
   "execution_count": 37,
   "id": "6cd86cc0",
   "metadata": {},
   "outputs": [
    {
     "data": {
      "text/plain": [
       "'oht'"
      ]
     },
     "execution_count": 37,
     "metadata": {},
     "output_type": "execute_result"
    }
   ],
   "source": [
    "c=\"Python\"\n",
    "c[-2:-5:-1]"
   ]
  },
  {
   "cell_type": "code",
   "execution_count": 38,
   "id": "32406424",
   "metadata": {},
   "outputs": [
    {
     "data": {
      "text/plain": [
       "'nohtyP'"
      ]
     },
     "execution_count": 38,
     "metadata": {},
     "output_type": "execute_result"
    }
   ],
   "source": [
    "c[-1::-1]"
   ]
  },
  {
   "cell_type": "code",
   "execution_count": 39,
   "id": "8bfe44e4",
   "metadata": {},
   "outputs": [
    {
     "data": {
      "text/plain": [
       "'I am working with google'"
      ]
     },
     "execution_count": 39,
     "metadata": {},
     "output_type": "execute_result"
    }
   ],
   "source": [
    "b[::]"
   ]
  },
  {
   "cell_type": "code",
   "execution_count": 40,
   "id": "d7c953a6",
   "metadata": {},
   "outputs": [
    {
     "data": {
      "text/plain": [
       "'I am wor'"
      ]
     },
     "execution_count": 40,
     "metadata": {},
     "output_type": "execute_result"
    }
   ],
   "source": [
    "b[:8]"
   ]
  },
  {
   "cell_type": "code",
   "execution_count": 41,
   "id": "dac7bae5",
   "metadata": {},
   "outputs": [
    {
     "data": {
      "text/plain": [
       "'le'"
      ]
     },
     "execution_count": 41,
     "metadata": {},
     "output_type": "execute_result"
    }
   ],
   "source": [
    "b[-2:]"
   ]
  },
  {
   "cell_type": "code",
   "execution_count": 42,
   "id": "5a13519c",
   "metadata": {},
   "outputs": [
    {
     "data": {
      "text/plain": [
       "'l'"
      ]
     },
     "execution_count": 42,
     "metadata": {},
     "output_type": "execute_result"
    }
   ],
   "source": [
    "b[-2:-1]"
   ]
  },
  {
   "cell_type": "code",
   "execution_count": 43,
   "id": "62f15708",
   "metadata": {},
   "outputs": [
    {
     "data": {
      "text/plain": [
       "''"
      ]
     },
     "execution_count": 43,
     "metadata": {},
     "output_type": "execute_result"
    }
   ],
   "source": [
    "b[0:-10:-1]"
   ]
  },
  {
   "cell_type": "code",
   "execution_count": 44,
   "id": "0a79fbdb",
   "metadata": {},
   "outputs": [
    {
     "data": {
      "text/plain": [
       "''"
      ]
     },
     "execution_count": 44,
     "metadata": {},
     "output_type": "execute_result"
    }
   ],
   "source": [
    "b[0:100:-1]"
   ]
  },
  {
   "cell_type": "code",
   "execution_count": 45,
   "id": "01fa546a",
   "metadata": {},
   "outputs": [
    {
     "data": {
      "text/plain": [
       "'Ia okn ihgol'"
      ]
     },
     "execution_count": 45,
     "metadata": {},
     "output_type": "execute_result"
    }
   ],
   "source": [
    "b[0:300:2]"
   ]
  },
  {
   "cell_type": "code",
   "execution_count": 46,
   "id": "c9c248f0",
   "metadata": {},
   "outputs": [
    {
     "data": {
      "text/plain": [
       "'Imoi tgg'"
      ]
     },
     "execution_count": 46,
     "metadata": {},
     "output_type": "execute_result"
    }
   ],
   "source": [
    "b[0:300:3]"
   ]
  },
  {
   "cell_type": "markdown",
   "id": "cccb5deb",
   "metadata": {},
   "source": [
    "# how to use inbuilt function and how it is work"
   ]
  },
  {
   "cell_type": "code",
   "execution_count": 48,
   "id": "53b2949b",
   "metadata": {},
   "outputs": [],
   "source": [
    "a='Python'+'Java'"
   ]
  },
  {
   "cell_type": "code",
   "execution_count": 49,
   "id": "7bb2ce50",
   "metadata": {},
   "outputs": [
    {
     "data": {
      "text/plain": [
       "'PythonJava'"
      ]
     },
     "execution_count": 49,
     "metadata": {},
     "output_type": "execute_result"
    }
   ],
   "source": [
    "a"
   ]
  },
  {
   "cell_type": "code",
   "execution_count": 50,
   "id": "6074bb49",
   "metadata": {},
   "outputs": [
    {
     "data": {
      "text/plain": [
       "10"
      ]
     },
     "execution_count": 50,
     "metadata": {},
     "output_type": "execute_result"
    }
   ],
   "source": [
    "len(a)"
   ]
  },
  {
   "cell_type": "code",
   "execution_count": 52,
   "id": "b2309186",
   "metadata": {},
   "outputs": [
    {
     "data": {
      "text/plain": [
       "'PythonPythonPythonPythonPythonPythonPython'"
      ]
     },
     "execution_count": 52,
     "metadata": {},
     "output_type": "execute_result"
    }
   ],
   "source": [
    "'Python'* 7"
   ]
  },
  {
   "cell_type": "code",
   "execution_count": 53,
   "id": "3b3e4d78",
   "metadata": {},
   "outputs": [
    {
     "data": {
      "text/plain": [
       "<function str.count>"
      ]
     },
     "execution_count": 53,
     "metadata": {},
     "output_type": "execute_result"
    }
   ],
   "source": [
    "a.count"
   ]
  },
  {
   "cell_type": "code",
   "execution_count": 54,
   "id": "c07b8d06",
   "metadata": {},
   "outputs": [
    {
     "data": {
      "text/plain": [
       "-1"
      ]
     },
     "execution_count": 54,
     "metadata": {},
     "output_type": "execute_result"
    }
   ],
   "source": [
    "a.find('Pythona')"
   ]
  },
  {
   "cell_type": "code",
   "execution_count": 56,
   "id": "0ef9d211",
   "metadata": {},
   "outputs": [
    {
     "data": {
      "text/plain": [
       "-1"
      ]
     },
     "execution_count": 56,
     "metadata": {},
     "output_type": "execute_result"
    }
   ],
   "source": [
    "a.find('i')"
   ]
  },
  {
   "cell_type": "code",
   "execution_count": 55,
   "id": "f2c0bc78",
   "metadata": {},
   "outputs": [
    {
     "data": {
      "text/plain": [
       "7"
      ]
     },
     "execution_count": 55,
     "metadata": {},
     "output_type": "execute_result"
    }
   ],
   "source": [
    "a.find('a')"
   ]
  },
  {
   "cell_type": "code",
   "execution_count": null,
   "id": "796b473f",
   "metadata": {},
   "outputs": [],
   "source": [
    "# whenever the particular operator is not available inside the variable the result will be dispaly -1"
   ]
  },
  {
   "cell_type": "code",
   "execution_count": 57,
   "id": "48a3d1f9",
   "metadata": {},
   "outputs": [
    {
     "data": {
      "text/plain": [
       "1"
      ]
     },
     "execution_count": 57,
     "metadata": {},
     "output_type": "execute_result"
    }
   ],
   "source": [
    "a.find('y')"
   ]
  },
  {
   "cell_type": "code",
   "execution_count": 58,
   "id": "987a4706",
   "metadata": {},
   "outputs": [],
   "source": [
    "d='python'"
   ]
  },
  {
   "cell_type": "code",
   "execution_count": 59,
   "id": "b1d84f64",
   "metadata": {},
   "outputs": [
    {
     "data": {
      "text/plain": [
       "2"
      ]
     },
     "execution_count": 59,
     "metadata": {},
     "output_type": "execute_result"
    }
   ],
   "source": [
    "a.count('a')"
   ]
  },
  {
   "cell_type": "code",
   "execution_count": 61,
   "id": "ceb8624b",
   "metadata": {},
   "outputs": [
    {
     "data": {
      "text/plain": [
       "0"
      ]
     },
     "execution_count": 61,
     "metadata": {},
     "output_type": "execute_result"
    }
   ],
   "source": [
    "d.count('a')"
   ]
  },
  {
   "cell_type": "code",
   "execution_count": 62,
   "id": "2271cb6a",
   "metadata": {},
   "outputs": [
    {
     "data": {
      "text/plain": [
       "['PythonJava']"
      ]
     },
     "execution_count": 62,
     "metadata": {},
     "output_type": "execute_result"
    }
   ],
   "source": [
    "a.split()"
   ]
  },
  {
   "cell_type": "code",
   "execution_count": 64,
   "id": "bdc05f7f",
   "metadata": {},
   "outputs": [
    {
     "data": {
      "text/plain": [
       "['Pytho', 'Java']"
      ]
     },
     "execution_count": 64,
     "metadata": {},
     "output_type": "execute_result"
    }
   ],
   "source": [
    "a.split('n')"
   ]
  },
  {
   "cell_type": "code",
   "execution_count": 65,
   "id": "3179534e",
   "metadata": {},
   "outputs": [],
   "source": [
    "e=\"python java\""
   ]
  },
  {
   "cell_type": "code",
   "execution_count": 66,
   "id": "73b329ff",
   "metadata": {},
   "outputs": [
    {
     "data": {
      "text/plain": [
       "'python java'"
      ]
     },
     "execution_count": 66,
     "metadata": {},
     "output_type": "execute_result"
    }
   ],
   "source": [
    "e"
   ]
  },
  {
   "cell_type": "code",
   "execution_count": 67,
   "id": "c1f8aef8",
   "metadata": {},
   "outputs": [
    {
     "data": {
      "text/plain": [
       "['python', 'java']"
      ]
     },
     "execution_count": 67,
     "metadata": {},
     "output_type": "execute_result"
    }
   ],
   "source": [
    "e.split(' ')"
   ]
  },
  {
   "cell_type": "code",
   "execution_count": 68,
   "id": "7e26dad2",
   "metadata": {},
   "outputs": [
    {
     "data": {
      "text/plain": [
       "list"
      ]
     },
     "execution_count": 68,
     "metadata": {},
     "output_type": "execute_result"
    }
   ],
   "source": [
    "type(a.split())"
   ]
  },
  {
   "cell_type": "code",
   "execution_count": 69,
   "id": "ee522e82",
   "metadata": {},
   "outputs": [],
   "source": [
    "l=a.split()"
   ]
  },
  {
   "cell_type": "code",
   "execution_count": 70,
   "id": "86533e2a",
   "metadata": {},
   "outputs": [
    {
     "data": {
      "text/plain": [
       "['PythonJava']"
      ]
     },
     "execution_count": 70,
     "metadata": {},
     "output_type": "execute_result"
    }
   ],
   "source": [
    "l"
   ]
  },
  {
   "cell_type": "code",
   "execution_count": 71,
   "id": "e6e8d245",
   "metadata": {},
   "outputs": [
    {
     "data": {
      "text/plain": [
       "'PythonJava'"
      ]
     },
     "execution_count": 71,
     "metadata": {},
     "output_type": "execute_result"
    }
   ],
   "source": [
    "l[0]"
   ]
  },
  {
   "cell_type": "code",
   "execution_count": 72,
   "id": "7c6c0600",
   "metadata": {},
   "outputs": [],
   "source": [
    "f=\"python java\""
   ]
  },
  {
   "cell_type": "code",
   "execution_count": 73,
   "id": "56028605",
   "metadata": {},
   "outputs": [
    {
     "data": {
      "text/plain": [
       "['python', 'java']"
      ]
     },
     "execution_count": 73,
     "metadata": {},
     "output_type": "execute_result"
    }
   ],
   "source": [
    "f.split()"
   ]
  },
  {
   "cell_type": "code",
   "execution_count": 74,
   "id": "259f9bab",
   "metadata": {},
   "outputs": [
    {
     "data": {
      "text/plain": [
       "'p'"
      ]
     },
     "execution_count": 74,
     "metadata": {},
     "output_type": "execute_result"
    }
   ],
   "source": [
    "f[0]"
   ]
  },
  {
   "cell_type": "code",
   "execution_count": 75,
   "id": "ea84475a",
   "metadata": {},
   "outputs": [
    {
     "data": {
      "text/plain": [
       "list"
      ]
     },
     "execution_count": 75,
     "metadata": {},
     "output_type": "execute_result"
    }
   ],
   "source": [
    "type(f.split())"
   ]
  },
  {
   "cell_type": "code",
   "execution_count": 76,
   "id": "2b1d895b",
   "metadata": {},
   "outputs": [],
   "source": [
    "l=f.split()"
   ]
  },
  {
   "cell_type": "code",
   "execution_count": 77,
   "id": "08da5d43",
   "metadata": {},
   "outputs": [
    {
     "data": {
      "text/plain": [
       "['python', 'java']"
      ]
     },
     "execution_count": 77,
     "metadata": {},
     "output_type": "execute_result"
    }
   ],
   "source": [
    "l"
   ]
  },
  {
   "cell_type": "code",
   "execution_count": 78,
   "id": "27c796c9",
   "metadata": {},
   "outputs": [
    {
     "data": {
      "text/plain": [
       "'python'"
      ]
     },
     "execution_count": 78,
     "metadata": {},
     "output_type": "execute_result"
    }
   ],
   "source": [
    "l[0]"
   ]
  },
  {
   "cell_type": "code",
   "execution_count": 79,
   "id": "9509a1e2",
   "metadata": {},
   "outputs": [
    {
     "data": {
      "text/plain": [
       "'PythonJava'"
      ]
     },
     "execution_count": 79,
     "metadata": {},
     "output_type": "execute_result"
    }
   ],
   "source": [
    "a"
   ]
  },
  {
   "cell_type": "code",
   "execution_count": 80,
   "id": "87a0a674",
   "metadata": {},
   "outputs": [
    {
     "data": {
      "text/plain": [
       "['PythonJava']"
      ]
     },
     "execution_count": 80,
     "metadata": {},
     "output_type": "execute_result"
    }
   ],
   "source": [
    "a.split()"
   ]
  },
  {
   "cell_type": "code",
   "execution_count": 81,
   "id": "48a7d219",
   "metadata": {},
   "outputs": [
    {
     "data": {
      "text/plain": [
       "'P'"
      ]
     },
     "execution_count": 81,
     "metadata": {},
     "output_type": "execute_result"
    }
   ],
   "source": [
    "a[0]"
   ]
  },
  {
   "cell_type": "code",
   "execution_count": 82,
   "id": "4f90660c",
   "metadata": {},
   "outputs": [
    {
     "data": {
      "text/plain": [
       "'v'"
      ]
     },
     "execution_count": 82,
     "metadata": {},
     "output_type": "execute_result"
    }
   ],
   "source": [
    "a[8]"
   ]
  },
  {
   "cell_type": "code",
   "execution_count": 83,
   "id": "aa9b1248",
   "metadata": {},
   "outputs": [
    {
     "data": {
      "text/plain": [
       "list"
      ]
     },
     "execution_count": 83,
     "metadata": {},
     "output_type": "execute_result"
    }
   ],
   "source": [
    "type(a.split())"
   ]
  },
  {
   "cell_type": "code",
   "execution_count": 84,
   "id": "2f865c55",
   "metadata": {},
   "outputs": [],
   "source": [
    "l=a.split()"
   ]
  },
  {
   "cell_type": "code",
   "execution_count": 85,
   "id": "169bb3fa",
   "metadata": {},
   "outputs": [
    {
     "data": {
      "text/plain": [
       "['PythonJava']"
      ]
     },
     "execution_count": 85,
     "metadata": {},
     "output_type": "execute_result"
    }
   ],
   "source": [
    "l"
   ]
  },
  {
   "cell_type": "code",
   "execution_count": 86,
   "id": "fd83e3a6",
   "metadata": {},
   "outputs": [
    {
     "data": {
      "text/plain": [
       "'PythonJava'"
      ]
     },
     "execution_count": 86,
     "metadata": {},
     "output_type": "execute_result"
    }
   ],
   "source": [
    "l[0]"
   ]
  },
  {
   "cell_type": "code",
   "execution_count": 87,
   "id": "e6df171a",
   "metadata": {},
   "outputs": [
    {
     "data": {
      "text/plain": [
       "['PythonJava']"
      ]
     },
     "execution_count": 87,
     "metadata": {},
     "output_type": "execute_result"
    }
   ],
   "source": [
    "a.split()"
   ]
  },
  {
   "cell_type": "code",
   "execution_count": 88,
   "id": "fffe7453",
   "metadata": {},
   "outputs": [
    {
     "data": {
      "text/plain": [
       "'J'"
      ]
     },
     "execution_count": 88,
     "metadata": {},
     "output_type": "execute_result"
    }
   ],
   "source": [
    "a[6]"
   ]
  },
  {
   "cell_type": "code",
   "execution_count": 89,
   "id": "08118a17",
   "metadata": {},
   "outputs": [
    {
     "data": {
      "text/plain": [
       "'PythonJava'"
      ]
     },
     "execution_count": 89,
     "metadata": {},
     "output_type": "execute_result"
    }
   ],
   "source": [
    "a"
   ]
  },
  {
   "cell_type": "code",
   "execution_count": 91,
   "id": "573bfdbd",
   "metadata": {},
   "outputs": [
    {
     "data": {
      "text/plain": [
       "['PythonJ', 'v', '']"
      ]
     },
     "execution_count": 91,
     "metadata": {},
     "output_type": "execute_result"
    }
   ],
   "source": [
    "a.split('a')"
   ]
  },
  {
   "cell_type": "code",
   "execution_count": 92,
   "id": "a017b5f8",
   "metadata": {},
   "outputs": [
    {
     "data": {
      "text/plain": [
       "['Pyt', 'onJava']"
      ]
     },
     "execution_count": 92,
     "metadata": {},
     "output_type": "execute_result"
    }
   ],
   "source": [
    "a.split(a[3])"
   ]
  },
  {
   "cell_type": "code",
   "execution_count": 93,
   "id": "166d2539",
   "metadata": {},
   "outputs": [],
   "source": [
    "# whether you have mentioned inside single or double code then making string"
   ]
  },
  {
   "cell_type": "code",
   "execution_count": 94,
   "id": "a88b4710",
   "metadata": {},
   "outputs": [],
   "source": [
    "a='python'\n",
    "a=\"python\"\n",
    "a=\"1,2,3,4,5,56,3\""
   ]
  },
  {
   "cell_type": "code",
   "execution_count": 95,
   "id": "38f2a447",
   "metadata": {},
   "outputs": [
    {
     "data": {
      "text/plain": [
       "str"
      ]
     },
     "execution_count": 95,
     "metadata": {},
     "output_type": "execute_result"
    }
   ],
   "source": [
    "type(a)"
   ]
  },
  {
   "cell_type": "code",
   "execution_count": 97,
   "id": "a501dda9",
   "metadata": {},
   "outputs": [
    {
     "data": {
      "text/plain": [
       "float"
      ]
     },
     "execution_count": 97,
     "metadata": {},
     "output_type": "execute_result"
    }
   ],
   "source": [
    "g=23.0\n",
    "type(g)"
   ]
  },
  {
   "cell_type": "code",
   "execution_count": 98,
   "id": "38c88db0",
   "metadata": {},
   "outputs": [
    {
     "data": {
      "text/plain": [
       "complex"
      ]
     },
     "execution_count": 98,
     "metadata": {},
     "output_type": "execute_result"
    }
   ],
   "source": [
    "h=26+8j\n",
    "type(h)"
   ]
  },
  {
   "cell_type": "code",
   "execution_count": 99,
   "id": "e255c468",
   "metadata": {},
   "outputs": [],
   "source": [
    "a=\"I am working with google\""
   ]
  },
  {
   "cell_type": "code",
   "execution_count": 100,
   "id": "2300ded9",
   "metadata": {},
   "outputs": [
    {
     "data": {
      "text/plain": [
       "'I am working with google'"
      ]
     },
     "execution_count": 100,
     "metadata": {},
     "output_type": "execute_result"
    }
   ],
   "source": [
    "a"
   ]
  },
  {
   "cell_type": "code",
   "execution_count": 101,
   "id": "141e6966",
   "metadata": {},
   "outputs": [
    {
     "data": {
      "text/plain": [
       "['I am ', 'orking ', 'ith google']"
      ]
     },
     "execution_count": 101,
     "metadata": {},
     "output_type": "execute_result"
    }
   ],
   "source": [
    "a.split('w')"
   ]
  },
  {
   "cell_type": "code",
   "execution_count": 102,
   "id": "facf92ee",
   "metadata": {},
   "outputs": [
    {
     "data": {
      "text/plain": [
       "['I am ', 'rking with google']"
      ]
     },
     "execution_count": 102,
     "metadata": {},
     "output_type": "execute_result"
    }
   ],
   "source": [
    "a.split('wo')"
   ]
  },
  {
   "cell_type": "code",
   "execution_count": 103,
   "id": "14a1539b",
   "metadata": {},
   "outputs": [],
   "source": [
    "a=\"mlrt\""
   ]
  },
  {
   "cell_type": "code",
   "execution_count": 105,
   "id": "75e6fb72",
   "metadata": {},
   "outputs": [
    {
     "data": {
      "text/plain": [
       "'MLRT'"
      ]
     },
     "execution_count": 105,
     "metadata": {},
     "output_type": "execute_result"
    }
   ],
   "source": [
    "a.upper()"
   ]
  },
  {
   "cell_type": "code",
   "execution_count": 106,
   "id": "cf7aae03",
   "metadata": {},
   "outputs": [],
   "source": [
    "a=\"mLrT\""
   ]
  },
  {
   "cell_type": "code",
   "execution_count": 107,
   "id": "0a27074d",
   "metadata": {},
   "outputs": [
    {
     "data": {
      "text/plain": [
       "'MlRt'"
      ]
     },
     "execution_count": 107,
     "metadata": {},
     "output_type": "execute_result"
    }
   ],
   "source": [
    "a.swapcase()"
   ]
  },
  {
   "cell_type": "code",
   "execution_count": 108,
   "id": "2750188b",
   "metadata": {},
   "outputs": [
    {
     "data": {
      "text/plain": [
       "'Mlrt'"
      ]
     },
     "execution_count": 108,
     "metadata": {},
     "output_type": "execute_result"
    }
   ],
   "source": [
    "a.title()"
   ]
  },
  {
   "cell_type": "code",
   "execution_count": 109,
   "id": "9834413a",
   "metadata": {},
   "outputs": [
    {
     "data": {
      "text/plain": [
       "'Mlrt'"
      ]
     },
     "execution_count": 109,
     "metadata": {},
     "output_type": "execute_result"
    }
   ],
   "source": [
    "a.capitalize()"
   ]
  },
  {
   "cell_type": "code",
   "execution_count": 111,
   "id": "ee656336",
   "metadata": {},
   "outputs": [
    {
     "data": {
      "text/plain": [
       "'gmlrtomlrtomlrtgmlrtlmlrtemlrtomlrtnmlrtlmlrtimlrtnmlrtemlrttmlrtrmlrtamlrtnmlrtimlrtnmlrtg'"
      ]
     },
     "execution_count": 111,
     "metadata": {},
     "output_type": "execute_result"
    }
   ],
   "source": [
    "b = \"mlrt\"\n",
    "c =\"googleonlinetraning\"\n",
    "b.join(c)\n"
   ]
  },
  {
   "cell_type": "code",
   "execution_count": 113,
   "id": "406bad24",
   "metadata": {},
   "outputs": [
    {
     "data": {
      "text/plain": [
       "'m  l  r  t'"
      ]
     },
     "execution_count": 113,
     "metadata": {},
     "output_type": "execute_result"
    }
   ],
   "source": [
    "\"  \".join(\"mlrt\")"
   ]
  },
  {
   "cell_type": "code",
   "execution_count": 115,
   "id": "c9074028",
   "metadata": {},
   "outputs": [
    {
     "data": {
      "text/plain": [
       "<reversed at 0x1fb5877ff10>"
      ]
     },
     "execution_count": 115,
     "metadata": {},
     "output_type": "execute_result"
    }
   ],
   "source": [
    "reversed(\"mlrt\")"
   ]
  },
  {
   "cell_type": "code",
   "execution_count": 116,
   "id": "f85ab5e2",
   "metadata": {},
   "outputs": [
    {
     "name": "stdout",
     "output_type": "stream",
     "text": [
      "t\n",
      "r\n",
      "l\n",
      "m\n"
     ]
    }
   ],
   "source": [
    "for i in reversed(\"mlrt\"):\n",
    "    print(i)\n"
   ]
  },
  {
   "cell_type": "code",
   "execution_count": null,
   "id": "57c92487",
   "metadata": {},
   "outputs": [],
   "source": []
  },
  {
   "cell_type": "code",
   "execution_count": null,
   "id": "610bc394",
   "metadata": {},
   "outputs": [],
   "source": []
  },
  {
   "cell_type": "code",
   "execution_count": null,
   "id": "7ba486a1",
   "metadata": {},
   "outputs": [],
   "source": []
  },
  {
   "cell_type": "code",
   "execution_count": null,
   "id": "b7f321f5",
   "metadata": {},
   "outputs": [],
   "source": []
  },
  {
   "cell_type": "code",
   "execution_count": null,
   "id": "dfa50abb",
   "metadata": {},
   "outputs": [],
   "source": []
  },
  {
   "cell_type": "code",
   "execution_count": null,
   "id": "90f95995",
   "metadata": {},
   "outputs": [],
   "source": []
  },
  {
   "cell_type": "code",
   "execution_count": null,
   "id": "c052e134",
   "metadata": {},
   "outputs": [],
   "source": []
  },
  {
   "cell_type": "code",
   "execution_count": null,
   "id": "0b14abba",
   "metadata": {},
   "outputs": [],
   "source": []
  },
  {
   "cell_type": "code",
   "execution_count": null,
   "id": "82505ea9",
   "metadata": {},
   "outputs": [],
   "source": []
  },
  {
   "cell_type": "code",
   "execution_count": null,
   "id": "ff16ae0f",
   "metadata": {},
   "outputs": [],
   "source": []
  }
 ],
 "metadata": {
  "kernelspec": {
   "display_name": "Python 3 (ipykernel)",
   "language": "python",
   "name": "python3"
  },
  "language_info": {
   "codemirror_mode": {
    "name": "ipython",
    "version": 3
   },
   "file_extension": ".py",
   "mimetype": "text/x-python",
   "name": "python",
   "nbconvert_exporter": "python",
   "pygments_lexer": "ipython3",
   "version": "3.9.13"
  }
 },
 "nbformat": 4,
 "nbformat_minor": 5
}
